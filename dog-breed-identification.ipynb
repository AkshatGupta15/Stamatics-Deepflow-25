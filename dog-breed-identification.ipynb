{
 "cells": [
  {
   "cell_type": "code",
   "execution_count": 1,
   "id": "74b05a66",
   "metadata": {
    "execution": {
     "iopub.execute_input": "2025-05-11T11:45:59.262091Z",
     "iopub.status.busy": "2025-05-11T11:45:59.261828Z",
     "iopub.status.idle": "2025-05-11T11:46:10.214632Z",
     "shell.execute_reply": "2025-05-11T11:46:10.214038Z"
    },
    "executionInfo": {
     "elapsed": 9846,
     "status": "ok",
     "timestamp": 1746958083609,
     "user": {
      "displayName": "Sai",
      "userId": "00014113356133247508"
     },
     "user_tz": -330
    },
    "id": "7SI2AJxEuVQM",
    "papermill": {
     "duration": 10.959733,
     "end_time": "2025-05-11T11:46:10.216036",
     "exception": false,
     "start_time": "2025-05-11T11:45:59.256303",
     "status": "completed"
    },
    "tags": []
   },
   "outputs": [],
   "source": [
    "import torch\n",
    "import os\n",
    "from PIL import Image\n",
    "from pathlib import Path\n",
    "import pandas as pd\n",
    "import torchvision\n",
    "from sklearn.model_selection import train_test_split"
   ]
  },
  {
   "cell_type": "code",
   "execution_count": null,
   "id": "94e44a38",
   "metadata": {
    "execution": {
     "iopub.execute_input": "2025-05-11T11:46:10.225236Z",
     "iopub.status.busy": "2025-05-11T11:46:10.224593Z",
     "iopub.status.idle": "2025-05-11T11:46:10.285267Z",
     "shell.execute_reply": "2025-05-11T11:46:10.284474Z"
    },
    "executionInfo": {
     "elapsed": 15,
     "status": "ok",
     "timestamp": 1746958083628,
     "user": {
      "displayName": "Sai",
      "userId": "00014113356133247508"
     },
     "user_tz": -330
    },
    "id": "vSEDkkr6u26J",
    "papermill": {
     "duration": 0.066454,
     "end_time": "2025-05-11T11:46:10.286691",
     "exception": false,
     "start_time": "2025-05-11T11:46:10.220237",
     "status": "completed"
    },
    "tags": []
   },
   "outputs": [],
   "source": [
    "labels=pd.read_csv('/content/labels.csv')\n",
    "train,valid=train_test_split(labels,train_size=0.8,shuffle=True,stratify=labels['breed'],random_state=42)"
   ]
  },
  {
   "cell_type": "code",
   "execution_count": 3,
   "id": "e706a84d",
   "metadata": {
    "execution": {
     "iopub.execute_input": "2025-05-11T11:46:10.295543Z",
     "iopub.status.busy": "2025-05-11T11:46:10.295335Z",
     "iopub.status.idle": "2025-05-11T11:46:10.300045Z",
     "shell.execute_reply": "2025-05-11T11:46:10.299470Z"
    },
    "executionInfo": {
     "elapsed": 3,
     "status": "ok",
     "timestamp": 1746958083640,
     "user": {
      "displayName": "Sai",
      "userId": "00014113356133247508"
     },
     "user_tz": -330
    },
    "id": "2zRNdpYXu5kc",
    "papermill": {
     "duration": 0.010317,
     "end_time": "2025-05-11T11:46:10.301098",
     "exception": false,
     "start_time": "2025-05-11T11:46:10.290781",
     "status": "completed"
    },
    "tags": []
   },
   "outputs": [],
   "source": [
    "train,train_labels=train['id'].reset_index(drop=True),train['breed'].reset_index(drop=True)\n",
    "val,val_labels=valid['id'].reset_index(drop=True),valid['breed'].reset_index(drop=True)"
   ]
  },
  {
   "cell_type": "code",
   "execution_count": null,
   "id": "43638780",
   "metadata": {
    "execution": {
     "iopub.execute_input": "2025-05-11T11:46:10.309170Z",
     "iopub.status.busy": "2025-05-11T11:46:10.308941Z",
     "iopub.status.idle": "2025-05-11T11:46:10.479626Z",
     "shell.execute_reply": "2025-05-11T11:46:10.478928Z"
    },
    "executionInfo": {
     "elapsed": 125,
     "status": "ok",
     "timestamp": 1746958083769,
     "user": {
      "displayName": "Sai",
      "userId": "00014113356133247508"
     },
     "user_tz": -330
    },
    "id": "WIHO4n_Ju8nM",
    "outputId": "8cb81f81-2891-474c-82bb-ea487051d674",
    "papermill": {
     "duration": 0.176106,
     "end_time": "2025-05-11T11:46:10.480762",
     "exception": false,
     "start_time": "2025-05-11T11:46:10.304656",
     "status": "completed"
    },
    "tags": []
   },
   "outputs": [
    {
     "data": {
      "text/plain": [
       "tensor([21])"
      ]
     },
     "execution_count": 4,
     "metadata": {},
     "output_type": "execute_result"
    }
   ],
   "source": [
    "breeds=dict()\n",
    "breed_count=1\n",
    "\n",
    "for breed in labels['breed'].value_counts().index:\n",
    "\n",
    "    breeds[breed]=breed_count-1\n",
    "    breed_count+=1\n",
    "\n",
    "val_labels_torch=torch.zeros(len(val_labels),1)\n",
    "train_labels_torch=torch.zeros(len(train_labels),1)\n",
    "\n",
    "for index in val_labels.index:\n",
    "    val_labels_torch[index]=breeds[val_labels.iloc[index]]\n",
    "\n",
    "for index in train_labels.index:\n",
    "    train_labels_torch[index]=breeds[train_labels.iloc[index]]\n",
    "\n",
    "val_labels_torch = val_labels_torch.long()\n",
    "train_labels_torch = train_labels_torch.long()\n",
    "\n",
    "\n",
    "val_labels_torch[91]\n",
    "# val_labels=torch.tensor(val_labels.values)\n",
    "# train_labels=torch.tensor(train_labels.values)"
   ]
  },
  {
   "cell_type": "code",
   "execution_count": 5,
   "id": "5fabfd71",
   "metadata": {
    "execution": {
     "iopub.execute_input": "2025-05-11T11:46:10.489176Z",
     "iopub.status.busy": "2025-05-11T11:46:10.488936Z",
     "iopub.status.idle": "2025-05-11T11:46:10.494563Z",
     "shell.execute_reply": "2025-05-11T11:46:10.493830Z"
    },
    "executionInfo": {
     "elapsed": 4,
     "status": "ok",
     "timestamp": 1746958083775,
     "user": {
      "displayName": "Sai",
      "userId": "00014113356133247508"
     },
     "user_tz": -330
    },
    "id": "1cVs4iXju9d4",
    "papermill": {
     "duration": 0.010909,
     "end_time": "2025-05-11T11:46:10.495563",
     "exception": false,
     "start_time": "2025-05-11T11:46:10.484654",
     "status": "completed"
    },
    "tags": []
   },
   "outputs": [],
   "source": [
    "transform = torchvision.transforms.Compose([\n",
    "    torchvision.transforms.Resize((224, 224)),\n",
    "    torchvision.transforms.RandomHorizontalFlip(),\n",
    "    torchvision.transforms.RandomRotation(10),\n",
    "    torchvision.transforms.ColorJitter(brightness=0.2, contrast=0.2, saturation=0.2),\n",
    "    torchvision.transforms.ToTensor()\n",
    "])\n",
    "\n",
    "\n",
    "def create_dataset(series, directory_path, transform):\n",
    "    tensors = []\n",
    "    for i in range(len(series)):\n",
    "        if(series[i].endswith('.jpg')):\n",
    "            img_file=series[i]\n",
    "        else:\n",
    "            img_file = series[i] + '.jpg'\n",
    "        img_path = os.path.join(directory_path, img_file)\n",
    "        img = Image.open(img_path).convert('RGB')  # Ensure RGB\n",
    "        img_t = transform(img)\n",
    "        tensors.append(img_t)\n",
    "    return torch.stack(tensors, dim=0)\n"
   ]
  },
  {
   "cell_type": "code",
   "execution_count": 6,
   "id": "a588055e",
   "metadata": {
    "execution": {
     "iopub.execute_input": "2025-05-11T11:46:10.503380Z",
     "iopub.status.busy": "2025-05-11T11:46:10.503174Z",
     "iopub.status.idle": "2025-05-11T11:48:21.874002Z",
     "shell.execute_reply": "2025-05-11T11:48:21.873176Z"
    },
    "executionInfo": {
     "elapsed": 57177,
     "status": "ok",
     "timestamp": 1746958140954,
     "user": {
      "displayName": "Sai",
      "userId": "00014113356133247508"
     },
     "user_tz": -330
    },
    "id": "GDdwcrUpvBPW",
    "papermill": {
     "duration": 131.376395,
     "end_time": "2025-05-11T11:48:21.875527",
     "exception": false,
     "start_time": "2025-05-11T11:46:10.499132",
     "status": "completed"
    },
    "tags": []
   },
   "outputs": [],
   "source": [
    "directory_path=Path('/kaggle/input/dog-breed-identification/train')\n",
    "train_dataset=create_dataset(train,directory_path,transform)"
   ]
  },
  {
   "cell_type": "code",
   "execution_count": 7,
   "id": "e01b86bd",
   "metadata": {
    "execution": {
     "iopub.execute_input": "2025-05-11T11:48:21.884585Z",
     "iopub.status.busy": "2025-05-11T11:48:21.884163Z",
     "iopub.status.idle": "2025-05-11T11:48:49.532754Z",
     "shell.execute_reply": "2025-05-11T11:48:49.531973Z"
    },
    "executionInfo": {
     "elapsed": 8072,
     "status": "ok",
     "timestamp": 1746958149022,
     "user": {
      "displayName": "Sai",
      "userId": "00014113356133247508"
     },
     "user_tz": -330
    },
    "id": "Hx9KbX_svEvA",
    "papermill": {
     "duration": 27.654708,
     "end_time": "2025-05-11T11:48:49.534368",
     "exception": false,
     "start_time": "2025-05-11T11:48:21.879660",
     "status": "completed"
    },
    "tags": []
   },
   "outputs": [],
   "source": [
    "\n",
    "\n",
    "# For validation: no augmentation\n",
    "val_transform = torchvision.transforms.Compose([\n",
    "    torchvision.transforms.Resize((224, 224)),\n",
    "    torchvision.transforms.ToTensor()\n",
    "])\n",
    "val_dataset = create_dataset(val, directory_path, transform=val_transform)\n"
   ]
  },
  {
   "cell_type": "code",
   "execution_count": 8,
   "id": "21e07b6f",
   "metadata": {
    "execution": {
     "iopub.execute_input": "2025-05-11T11:48:49.545000Z",
     "iopub.status.busy": "2025-05-11T11:48:49.544716Z",
     "iopub.status.idle": "2025-05-11T11:48:49.552197Z",
     "shell.execute_reply": "2025-05-11T11:48:49.551515Z"
    },
    "executionInfo": {
     "elapsed": 3,
     "status": "ok",
     "timestamp": 1746958149029,
     "user": {
      "displayName": "Sai",
      "userId": "00014113356133247508"
     },
     "user_tz": -330
    },
    "id": "VvTnPpwovFYX",
    "papermill": {
     "duration": 0.013681,
     "end_time": "2025-05-11T11:48:49.553257",
     "exception": false,
     "start_time": "2025-05-11T11:48:49.539576",
     "status": "completed"
    },
    "tags": []
   },
   "outputs": [],
   "source": [
    "from torch.utils.data import TensorDataset\n",
    "\n",
    "train_dataset_torch=TensorDataset(train_dataset,train_labels_torch)\n",
    "val_dataset_torch=TensorDataset(val_dataset,val_labels_torch)"
   ]
  },
  {
   "cell_type": "code",
   "execution_count": 9,
   "id": "866f53fd",
   "metadata": {
    "execution": {
     "iopub.execute_input": "2025-05-11T11:48:49.561751Z",
     "iopub.status.busy": "2025-05-11T11:48:49.561555Z",
     "iopub.status.idle": "2025-05-11T11:48:49.565900Z",
     "shell.execute_reply": "2025-05-11T11:48:49.565246Z"
    },
    "executionInfo": {
     "elapsed": 6,
     "status": "ok",
     "timestamp": 1746958149056,
     "user": {
      "displayName": "Sai",
      "userId": "00014113356133247508"
     },
     "user_tz": -330
    },
    "id": "Qpoq_g4CvHc8",
    "outputId": "9bf8c22c-75ab-42de-fed8-3cb51ad11b8d",
    "papermill": {
     "duration": 0.00996,
     "end_time": "2025-05-11T11:48:49.567012",
     "exception": false,
     "start_time": "2025-05-11T11:48:49.557052",
     "status": "completed"
    },
    "tags": []
   },
   "outputs": [
    {
     "data": {
      "text/plain": [
       "(torch.Size([8177, 3, 224, 224]), torch.Size([8177, 1]))"
      ]
     },
     "execution_count": 9,
     "metadata": {},
     "output_type": "execute_result"
    }
   ],
   "source": [
    "train_dataset.shape,train_labels_torch.shape"
   ]
  },
  {
   "cell_type": "code",
   "execution_count": 10,
   "id": "0dbbbf7f",
   "metadata": {
    "execution": {
     "iopub.execute_input": "2025-05-11T11:48:49.575057Z",
     "iopub.status.busy": "2025-05-11T11:48:49.574858Z",
     "iopub.status.idle": "2025-05-11T11:48:49.596315Z",
     "shell.execute_reply": "2025-05-11T11:48:49.595662Z"
    },
    "executionInfo": {
     "elapsed": 148,
     "status": "ok",
     "timestamp": 1746958149205,
     "user": {
      "displayName": "Sai",
      "userId": "00014113356133247508"
     },
     "user_tz": -330
    },
    "id": "BbIhL7JEvJXn",
    "outputId": "d5008de8-3971-4eba-826e-b56924d88b5a",
    "papermill": {
     "duration": 0.02678,
     "end_time": "2025-05-11T11:48:49.597449",
     "exception": false,
     "start_time": "2025-05-11T11:48:49.570669",
     "status": "completed"
    },
    "tags": []
   },
   "outputs": [
    {
     "data": {
      "text/plain": [
       "(tensor([[[0.2980, 0.2667, 0.1569,  ..., 0.2510, 0.0471, 0.0353],\n",
       "          [0.2275, 0.1490, 0.2157,  ..., 0.1020, 0.0196, 0.0078],\n",
       "          [0.2000, 0.1098, 0.2745,  ..., 0.0510, 0.0275, 0.0157],\n",
       "          ...,\n",
       "          [0.1176, 0.2118, 0.1843,  ..., 0.1176, 0.1373, 0.1451],\n",
       "          [0.1490, 0.1843, 0.1804,  ..., 0.1765, 0.1569, 0.1451],\n",
       "          [0.2431, 0.2784, 0.2118,  ..., 0.1529, 0.1216, 0.1059]],\n",
       " \n",
       "         [[0.3765, 0.3373, 0.2275,  ..., 0.2863, 0.0549, 0.0314],\n",
       "          [0.3137, 0.2314, 0.2980,  ..., 0.1373, 0.0275, 0.0039],\n",
       "          [0.2941, 0.2039, 0.3647,  ..., 0.0824, 0.0392, 0.0157],\n",
       "          ...,\n",
       "          [0.1176, 0.2118, 0.1882,  ..., 0.1333, 0.1529, 0.1608],\n",
       "          [0.1490, 0.1843, 0.1843,  ..., 0.1843, 0.1647, 0.1529],\n",
       "          [0.2431, 0.2784, 0.2157,  ..., 0.1569, 0.1255, 0.1059]],\n",
       " \n",
       "         [[0.3765, 0.3608, 0.2588,  ..., 0.2235, 0.0431, 0.0510],\n",
       "          [0.2667, 0.2000, 0.2706,  ..., 0.0745, 0.0157, 0.0235],\n",
       "          [0.1961, 0.1176, 0.2902,  ..., 0.0196, 0.0275, 0.0353],\n",
       "          ...,\n",
       "          [0.2235, 0.3059, 0.2667,  ..., 0.2157, 0.2392, 0.2510],\n",
       "          [0.2549, 0.2824, 0.2627,  ..., 0.2667, 0.2549, 0.2431],\n",
       "          [0.3569, 0.3804, 0.2980,  ..., 0.2392, 0.2157, 0.2000]]]),\n",
       " tensor([21]))"
      ]
     },
     "execution_count": 10,
     "metadata": {},
     "output_type": "execute_result"
    }
   ],
   "source": [
    "val_dataset_torch[0]"
   ]
  },
  {
   "cell_type": "code",
   "execution_count": 11,
   "id": "5da6fb62",
   "metadata": {
    "execution": {
     "iopub.execute_input": "2025-05-11T11:48:49.606144Z",
     "iopub.status.busy": "2025-05-11T11:48:49.605590Z",
     "iopub.status.idle": "2025-05-11T11:48:51.335306Z",
     "shell.execute_reply": "2025-05-11T11:48:51.334511Z"
    },
    "executionInfo": {
     "elapsed": 3038,
     "status": "ok",
     "timestamp": 1746958152241,
     "user": {
      "displayName": "Sai",
      "userId": "00014113356133247508"
     },
     "user_tz": -330
    },
    "id": "bd2sqqsZvLMS",
    "outputId": "3103c565-08ca-4618-9f68-8726641c4eb9",
    "papermill": {
     "duration": 1.735451,
     "end_time": "2025-05-11T11:48:51.336723",
     "exception": false,
     "start_time": "2025-05-11T11:48:49.601272",
     "status": "completed"
    },
    "tags": []
   },
   "outputs": [
    {
     "name": "stderr",
     "output_type": "stream",
     "text": [
      "Downloading: \"https://download.pytorch.org/models/resnet101-63fe2227.pth\" to /root/.cache/torch/hub/checkpoints/resnet101-63fe2227.pth\n",
      "100%|██████████| 171M/171M [00:00<00:00, 193MB/s]\n"
     ]
    }
   ],
   "source": [
    "from torchvision.models import resnet101, ResNet101_Weights\n",
    "import torch.nn as nn\n",
    "import torch.optim as optim\n",
    "\n",
    "resnet = resnet101(weights=ResNet101_Weights.IMAGENET1K_V1)\n",
    "for param in resnet.parameters():\n",
    "    param.requires_grad = False\n",
    "\n",
    "\n",
    "resnet.fc = nn.Sequential(\n",
    "    nn.Linear(resnet.fc.in_features, 256),  # From ResNet's output to 256 units\n",
    "    nn.ReLU(),                              # Activation function\n",
    "    nn.BatchNorm1d(256),                    # Normalization for stability\n",
    "    nn.Linear(256, 256),                    # Additional dense layer\n",
    "    nn.ReLU(),                              # Activation again\n",
    "    nn.Dropout(0.3),                        # Dropout to reduce overfitting\n",
    "    nn.BatchNorm1d(256),                    # Another batch norm layer\n",
    "    nn.Linear(256, 120)                     # Final layer: 120 output classes\n",
    ")\n",
    "model_torch = resnet\n",
    "\n",
    "optimizier=optim.Adam(model_torch.parameters(),lr=1e-4)\n",
    "loss_fn=nn.CrossEntropyLoss()"
   ]
  },
  {
   "cell_type": "code",
   "execution_count": 12,
   "id": "885f6b46",
   "metadata": {
    "execution": {
     "iopub.execute_input": "2025-05-11T11:48:51.347292Z",
     "iopub.status.busy": "2025-05-11T11:48:51.346684Z",
     "iopub.status.idle": "2025-05-11T11:58:12.793473Z",
     "shell.execute_reply": "2025-05-11T11:58:12.792692Z"
    },
    "executionInfo": {
     "elapsed": 529574,
     "status": "ok",
     "timestamp": 1746958863365,
     "user": {
      "displayName": "Sai",
      "userId": "00014113356133247508"
     },
     "user_tz": -330
    },
    "id": "3uHyvWMyvN_Z",
    "outputId": "c618767b-5afc-48f5-a988-9649c41958e9",
    "papermill": {
     "duration": 561.458231,
     "end_time": "2025-05-11T11:58:12.799886",
     "exception": false,
     "start_time": "2025-05-11T11:48:51.341655",
     "status": "completed"
    },
    "tags": []
   },
   "outputs": [
    {
     "name": "stdout",
     "output_type": "stream",
     "text": [
      "Epoch [1/20], Training Loss: 3.9497, Validation Loss: 3.0209, Accuracy: 58.58%\n",
      "Epoch [2/20], Training Loss: 2.7095, Validation Loss: 2.2647, Accuracy: 69.83%\n",
      "Epoch [3/20], Training Loss: 2.0879, Validation Loss: 1.7963, Accuracy: 75.55%\n",
      "Epoch [4/20], Training Loss: 1.6815, Validation Loss: 1.5181, Accuracy: 78.19%\n",
      "Epoch [5/20], Training Loss: 1.4135, Validation Loss: 1.3119, Accuracy: 79.76%\n",
      "Epoch [6/20], Training Loss: 1.2001, Validation Loss: 1.1393, Accuracy: 80.49%\n",
      "Epoch [7/20], Training Loss: 1.0472, Validation Loss: 1.0330, Accuracy: 81.37%\n",
      "Epoch [8/20], Training Loss: 0.9352, Validation Loss: 0.9782, Accuracy: 81.52%\n",
      "Epoch [9/20], Training Loss: 0.8287, Validation Loss: 0.9178, Accuracy: 81.17%\n",
      "Epoch [10/20], Training Loss: 0.7464, Validation Loss: 0.8815, Accuracy: 81.37%\n",
      "Epoch [11/20], Training Loss: 0.6702, Validation Loss: 0.8164, Accuracy: 81.81%\n",
      "Epoch [12/20], Training Loss: 0.6268, Validation Loss: 0.8483, Accuracy: 80.88%\n",
      "Epoch [13/20], Training Loss: 0.5622, Validation Loss: 0.7835, Accuracy: 81.76%\n",
      "Epoch [14/20], Training Loss: 0.5129, Validation Loss: 0.7531, Accuracy: 81.86%\n",
      "Epoch [15/20], Training Loss: 0.4760, Validation Loss: 0.7394, Accuracy: 81.76%\n",
      "Epoch [16/20], Training Loss: 0.4357, Validation Loss: 0.7391, Accuracy: 82.15%\n",
      "Epoch [17/20], Training Loss: 0.4037, Validation Loss: 0.7368, Accuracy: 82.20%\n",
      "Epoch [18/20], Training Loss: 0.3661, Validation Loss: 0.7147, Accuracy: 81.17%\n",
      "Epoch [19/20], Training Loss: 0.3403, Validation Loss: 0.7247, Accuracy: 80.88%\n",
      "Epoch [20/20], Training Loss: 0.3160, Validation Loss: 0.7017, Accuracy: 80.78%\n"
     ]
    }
   ],
   "source": [
    "from torch.utils.data import DataLoader\n",
    "\n",
    "train_loader = DataLoader(train_dataset_torch, batch_size=64, shuffle=True)\n",
    "val_loader = DataLoader(val_dataset_torch, batch_size=64, shuffle=False)\n",
    "\n",
    "n_epochs=20\n",
    "model_torch=model_torch.to('cuda')\n",
    "for i in range(1,n_epochs+1):\n",
    "    model_torch.train()\n",
    "    training_loss=0.0\n",
    "    for img,label in train_loader:\n",
    "        img=img.to('cuda')\n",
    "        label=label.to('cuda')\n",
    "        label=label.squeeze(1)\n",
    "        outputs=model_torch(img)\n",
    "        optimizier.zero_grad()\n",
    "        losses=loss_fn(outputs,label)\n",
    "        training_loss+=losses.item()\n",
    "        losses.backward()\n",
    "        optimizier.step()\n",
    "\n",
    "    model_torch.eval()\n",
    "    val_loss=0.0\n",
    "    correct = 0\n",
    "    total = 0\n",
    "\n",
    "    with torch.no_grad():\n",
    "        for img,label in val_loader:\n",
    "            img=img.to('cuda')\n",
    "            label=label.to('cuda')\n",
    "            label=label.squeeze(1)\n",
    "            outputs=model_torch(img)\n",
    "            loss=loss_fn(outputs,label)\n",
    "            val_loss+=loss.item()\n",
    "\n",
    "            _, predicted = torch.max(outputs, 1)\n",
    "            total += label.size(0)\n",
    "            correct += (predicted == label).sum().item()\n",
    "    print(f\"Epoch [{i}/{n_epochs}], Training Loss: {training_loss/len(train_loader):.4f}, Validation Loss: {val_loss/len(val_loader):.4f}, Accuracy: {100 * correct / total:.2f}%\")\n"
   ]
  },
  {
   "cell_type": "code",
   "execution_count": 13,
   "id": "bf76db50",
   "metadata": {
    "execution": {
     "iopub.execute_input": "2025-05-11T11:58:12.811280Z",
     "iopub.status.busy": "2025-05-11T11:58:12.810808Z",
     "iopub.status.idle": "2025-05-11T11:58:13.066969Z",
     "shell.execute_reply": "2025-05-11T11:58:13.066180Z"
    },
    "id": "UeMv4VYL4lXO",
    "papermill": {
     "duration": 0.263375,
     "end_time": "2025-05-11T11:58:13.068469",
     "exception": false,
     "start_time": "2025-05-11T11:58:12.805094",
     "status": "completed"
    },
    "tags": []
   },
   "outputs": [],
   "source": [
    "torch.save(resnet.state_dict(), 'resnet_custom_head.pth')\n"
   ]
  },
  {
   "cell_type": "code",
   "execution_count": 14,
   "id": "b13f4540",
   "metadata": {
    "execution": {
     "iopub.execute_input": "2025-05-11T11:58:13.080457Z",
     "iopub.status.busy": "2025-05-11T11:58:13.080214Z",
     "iopub.status.idle": "2025-05-11T11:58:13.514748Z",
     "shell.execute_reply": "2025-05-11T11:58:13.514121Z"
    },
    "papermill": {
     "duration": 0.44159,
     "end_time": "2025-05-11T11:58:13.516000",
     "exception": false,
     "start_time": "2025-05-11T11:58:13.074410",
     "status": "completed"
    },
    "tags": []
   },
   "outputs": [
    {
     "data": {
      "text/plain": [
       "['f7a32505c12649183c5991ecfa7d68b3.jpg',\n",
       " 'bc6d50ffb4644feb34530aa58943e85b.jpg',\n",
       " '7cbc041e79135a572aad87904b5c9c57.jpg',\n",
       " 'f3b603f10d6a344f0395fb46b242ff8e.jpg',\n",
       " 'db55098d859d27a3c05b0e3fc41d43e7.jpg',\n",
       " '665bab06a3ea861c0812c778486988e3.jpg',\n",
       " '7b57911ea7559cebd6db308125926642.jpg',\n",
       " 'df0d6ba158287cb2b3ed6459a22d42ba.jpg',\n",
       " 'b80d89ad4a17ac2537ff46d251efcd7c.jpg']"
      ]
     },
     "execution_count": 14,
     "metadata": {},
     "output_type": "execute_result"
    }
   ],
   "source": [
    "os.listdir('/kaggle/input/dog-breed-identification/test')[1:10]"
   ]
  },
  {
   "cell_type": "code",
   "execution_count": 15,
   "id": "7ec20b74",
   "metadata": {
    "execution": {
     "iopub.execute_input": "2025-05-11T11:58:13.527827Z",
     "iopub.status.busy": "2025-05-11T11:58:13.527345Z",
     "iopub.status.idle": "2025-05-11T12:00:28.341455Z",
     "shell.execute_reply": "2025-05-11T12:00:28.340821Z"
    },
    "papermill": {
     "duration": 134.82155,
     "end_time": "2025-05-11T12:00:28.343024",
     "exception": false,
     "start_time": "2025-05-11T11:58:13.521474",
     "status": "completed"
    },
    "tags": []
   },
   "outputs": [],
   "source": [
    "\n",
    "test=os.listdir('/kaggle/input/dog-breed-identification/test')\n",
    "test_dataset=create_dataset(test,'/kaggle/input/dog-breed-identification/test',val_transform)\n",
    "test_dataset=test_dataset.to(device='cuda')"
   ]
  },
  {
   "cell_type": "code",
   "execution_count": 16,
   "id": "2013df00",
   "metadata": {
    "execution": {
     "iopub.execute_input": "2025-05-11T12:00:28.355158Z",
     "iopub.status.busy": "2025-05-11T12:00:28.354663Z",
     "iopub.status.idle": "2025-05-11T12:00:28.362092Z",
     "shell.execute_reply": "2025-05-11T12:00:28.361559Z"
    },
    "papermill": {
     "duration": 0.01458,
     "end_time": "2025-05-11T12:00:28.363253",
     "exception": false,
     "start_time": "2025-05-11T12:00:28.348673",
     "status": "completed"
    },
    "tags": []
   },
   "outputs": [],
   "source": [
    "import pandas as pd\n",
    "output=pd.DataFrame(columns=['file',*breeds.keys()])"
   ]
  },
  {
   "cell_type": "code",
   "execution_count": 17,
   "id": "896965eb",
   "metadata": {
    "execution": {
     "iopub.execute_input": "2025-05-11T12:00:28.374589Z",
     "iopub.status.busy": "2025-05-11T12:00:28.374373Z",
     "iopub.status.idle": "2025-05-11T12:00:28.391438Z",
     "shell.execute_reply": "2025-05-11T12:00:28.390701Z"
    },
    "papermill": {
     "duration": 0.024149,
     "end_time": "2025-05-11T12:00:28.392700",
     "exception": false,
     "start_time": "2025-05-11T12:00:28.368551",
     "status": "completed"
    },
    "tags": []
   },
   "outputs": [
    {
     "data": {
      "text/html": [
       "<div>\n",
       "<style scoped>\n",
       "    .dataframe tbody tr th:only-of-type {\n",
       "        vertical-align: middle;\n",
       "    }\n",
       "\n",
       "    .dataframe tbody tr th {\n",
       "        vertical-align: top;\n",
       "    }\n",
       "\n",
       "    .dataframe thead th {\n",
       "        text-align: right;\n",
       "    }\n",
       "</style>\n",
       "<table border=\"1\" class=\"dataframe\">\n",
       "  <thead>\n",
       "    <tr style=\"text-align: right;\">\n",
       "      <th></th>\n",
       "      <th>file</th>\n",
       "      <th>scottish_deerhound</th>\n",
       "      <th>maltese_dog</th>\n",
       "      <th>afghan_hound</th>\n",
       "      <th>entlebucher</th>\n",
       "      <th>bernese_mountain_dog</th>\n",
       "      <th>shih-tzu</th>\n",
       "      <th>pomeranian</th>\n",
       "      <th>great_pyrenees</th>\n",
       "      <th>basenji</th>\n",
       "      <th>...</th>\n",
       "      <th>otterhound</th>\n",
       "      <th>giant_schnauzer</th>\n",
       "      <th>walker_hound</th>\n",
       "      <th>tibetan_mastiff</th>\n",
       "      <th>german_shepherd</th>\n",
       "      <th>golden_retriever</th>\n",
       "      <th>komondor</th>\n",
       "      <th>brabancon_griffon</th>\n",
       "      <th>eskimo_dog</th>\n",
       "      <th>briard</th>\n",
       "    </tr>\n",
       "  </thead>\n",
       "  <tbody>\n",
       "  </tbody>\n",
       "</table>\n",
       "<p>0 rows × 121 columns</p>\n",
       "</div>"
      ],
      "text/plain": [
       "Empty DataFrame\n",
       "Columns: [file, scottish_deerhound, maltese_dog, afghan_hound, entlebucher, bernese_mountain_dog, shih-tzu, pomeranian, great_pyrenees, basenji, samoyed, tibetan_terrier, airedale, cairn, leonberg, japanese_spaniel, beagle, blenheim_spaniel, miniature_pinscher, australian_terrier, irish_wolfhound, saluki, lakeland_terrier, papillon, norwegian_elkhound, siberian_husky, whippet, pug, chow, italian_greyhound, pembroke, newfoundland, ibizan_hound, border_terrier, silky_terrier, lhasa, dandie_dinmont, bedlington_terrier, sealyham_terrier, rhodesian_ridgeback, irish_setter, boston_bull, old_english_sheepdog, collie, english_foxhound, african_hunting_dog, bouvier_des_flandres, schipperke, kelpie, bloodhound, weimaraner, bluetick, labrador_retriever, saint_bernard, chesapeake_bay_retriever, english_setter, norfolk_terrier, groenendael, irish_terrier, greater_swiss_mountain_dog, kerry_blue_terrier, wire-haired_fox_terrier, scotch_terrier, yorkshire_terrier, basset, gordon_setter, keeshond, west_highland_white_terrier, malamute, mexican_hairless, affenpinscher, dingo, clumber, toy_poodle, staffordshire_bullterrier, toy_terrier, standard_poodle, welsh_springer_spaniel, miniature_poodle, irish_water_spaniel, miniature_schnauzer, norwich_terrier, appenzeller, sussex_spaniel, black-and-tan_coonhound, cardigan, rottweiler, dhole, shetland_sheepdog, great_dane, borzoi, bull_mastiff, boxer, german_short-haired_pointer, english_springer, pekinese, cocker_spaniel, american_staffordshire_terrier, doberman, brittany_spaniel, ...]\n",
       "Index: []\n",
       "\n",
       "[0 rows x 121 columns]"
      ]
     },
     "execution_count": 17,
     "metadata": {},
     "output_type": "execute_result"
    }
   ],
   "source": [
    "output"
   ]
  },
  {
   "cell_type": "code",
   "execution_count": 18,
   "id": "d196f556",
   "metadata": {
    "execution": {
     "iopub.execute_input": "2025-05-11T12:00:28.404204Z",
     "iopub.status.busy": "2025-05-11T12:00:28.404005Z",
     "iopub.status.idle": "2025-05-11T12:00:28.409456Z",
     "shell.execute_reply": "2025-05-11T12:00:28.408922Z"
    },
    "papermill": {
     "duration": 0.012272,
     "end_time": "2025-05-11T12:00:28.410496",
     "exception": false,
     "start_time": "2025-05-11T12:00:28.398224",
     "status": "completed"
    },
    "tags": []
   },
   "outputs": [
    {
     "data": {
      "text/plain": [
       "{'scottish_deerhound': 0,\n",
       " 'maltese_dog': 1,\n",
       " 'afghan_hound': 2,\n",
       " 'entlebucher': 3,\n",
       " 'bernese_mountain_dog': 4,\n",
       " 'shih-tzu': 5,\n",
       " 'pomeranian': 6,\n",
       " 'great_pyrenees': 7,\n",
       " 'basenji': 8,\n",
       " 'samoyed': 9,\n",
       " 'tibetan_terrier': 10,\n",
       " 'airedale': 11,\n",
       " 'cairn': 12,\n",
       " 'leonberg': 13,\n",
       " 'japanese_spaniel': 14,\n",
       " 'beagle': 15,\n",
       " 'blenheim_spaniel': 16,\n",
       " 'miniature_pinscher': 17,\n",
       " 'australian_terrier': 18,\n",
       " 'irish_wolfhound': 19,\n",
       " 'saluki': 20,\n",
       " 'lakeland_terrier': 21,\n",
       " 'papillon': 22,\n",
       " 'norwegian_elkhound': 23,\n",
       " 'siberian_husky': 24,\n",
       " 'whippet': 25,\n",
       " 'pug': 26,\n",
       " 'chow': 27,\n",
       " 'italian_greyhound': 28,\n",
       " 'pembroke': 29,\n",
       " 'newfoundland': 30,\n",
       " 'ibizan_hound': 31,\n",
       " 'border_terrier': 32,\n",
       " 'silky_terrier': 33,\n",
       " 'lhasa': 34,\n",
       " 'dandie_dinmont': 35,\n",
       " 'bedlington_terrier': 36,\n",
       " 'sealyham_terrier': 37,\n",
       " 'rhodesian_ridgeback': 38,\n",
       " 'irish_setter': 39,\n",
       " 'boston_bull': 40,\n",
       " 'old_english_sheepdog': 41,\n",
       " 'collie': 42,\n",
       " 'english_foxhound': 43,\n",
       " 'african_hunting_dog': 44,\n",
       " 'bouvier_des_flandres': 45,\n",
       " 'schipperke': 46,\n",
       " 'kelpie': 47,\n",
       " 'bloodhound': 48,\n",
       " 'weimaraner': 49,\n",
       " 'bluetick': 50,\n",
       " 'labrador_retriever': 51,\n",
       " 'saint_bernard': 52,\n",
       " 'chesapeake_bay_retriever': 53,\n",
       " 'english_setter': 54,\n",
       " 'norfolk_terrier': 55,\n",
       " 'groenendael': 56,\n",
       " 'irish_terrier': 57,\n",
       " 'greater_swiss_mountain_dog': 58,\n",
       " 'kerry_blue_terrier': 59,\n",
       " 'wire-haired_fox_terrier': 60,\n",
       " 'scotch_terrier': 61,\n",
       " 'yorkshire_terrier': 62,\n",
       " 'basset': 63,\n",
       " 'gordon_setter': 64,\n",
       " 'keeshond': 65,\n",
       " 'west_highland_white_terrier': 66,\n",
       " 'malamute': 67,\n",
       " 'mexican_hairless': 68,\n",
       " 'affenpinscher': 69,\n",
       " 'dingo': 70,\n",
       " 'clumber': 71,\n",
       " 'toy_poodle': 72,\n",
       " 'staffordshire_bullterrier': 73,\n",
       " 'toy_terrier': 74,\n",
       " 'standard_poodle': 75,\n",
       " 'welsh_springer_spaniel': 76,\n",
       " 'miniature_poodle': 77,\n",
       " 'irish_water_spaniel': 78,\n",
       " 'miniature_schnauzer': 79,\n",
       " 'norwich_terrier': 80,\n",
       " 'appenzeller': 81,\n",
       " 'sussex_spaniel': 82,\n",
       " 'black-and-tan_coonhound': 83,\n",
       " 'cardigan': 84,\n",
       " 'rottweiler': 85,\n",
       " 'dhole': 86,\n",
       " 'shetland_sheepdog': 87,\n",
       " 'great_dane': 88,\n",
       " 'borzoi': 89,\n",
       " 'bull_mastiff': 90,\n",
       " 'boxer': 91,\n",
       " 'german_short-haired_pointer': 92,\n",
       " 'english_springer': 93,\n",
       " 'pekinese': 94,\n",
       " 'cocker_spaniel': 95,\n",
       " 'american_staffordshire_terrier': 96,\n",
       " 'doberman': 97,\n",
       " 'brittany_spaniel': 98,\n",
       " 'malinois': 99,\n",
       " 'border_collie': 100,\n",
       " 'curly-coated_retriever': 101,\n",
       " 'redbone': 102,\n",
       " 'standard_schnauzer': 103,\n",
       " 'flat-coated_retriever': 104,\n",
       " 'chihuahua': 105,\n",
       " 'kuvasz': 106,\n",
       " 'soft-coated_wheaten_terrier': 107,\n",
       " 'vizsla': 108,\n",
       " 'french_bulldog': 109,\n",
       " 'otterhound': 110,\n",
       " 'giant_schnauzer': 111,\n",
       " 'walker_hound': 112,\n",
       " 'tibetan_mastiff': 113,\n",
       " 'german_shepherd': 114,\n",
       " 'golden_retriever': 115,\n",
       " 'komondor': 116,\n",
       " 'brabancon_griffon': 117,\n",
       " 'eskimo_dog': 118,\n",
       " 'briard': 119}"
      ]
     },
     "execution_count": 18,
     "metadata": {},
     "output_type": "execute_result"
    }
   ],
   "source": [
    "breeds"
   ]
  },
  {
   "cell_type": "code",
   "execution_count": 19,
   "id": "0aeb5a1e",
   "metadata": {
    "execution": {
     "iopub.execute_input": "2025-05-11T12:00:28.422215Z",
     "iopub.status.busy": "2025-05-11T12:00:28.421756Z",
     "iopub.status.idle": "2025-05-11T12:03:44.979670Z",
     "shell.execute_reply": "2025-05-11T12:03:44.979045Z"
    },
    "papermill": {
     "duration": 196.565214,
     "end_time": "2025-05-11T12:03:44.981163",
     "exception": false,
     "start_time": "2025-05-11T12:00:28.415949",
     "status": "completed"
    },
    "tags": []
   },
   "outputs": [],
   "source": [
    "import torch.nn.functional as F\n",
    "i=0\n",
    "for file,sample in zip(os.listdir('/kaggle/input/dog-breed-identification/test'),test_dataset):\n",
    "    sample=sample.cuda()\n",
    "    output_values=model_torch(sample.unsqueeze(dim=0))\n",
    "    output_values=output_values.cpu()\n",
    "    probabilities = F.softmax(output_values, dim=1)\n",
    "    output.loc[i]=[file,*probabilities[0].detach().numpy()]\n",
    "    i+=1"
   ]
  },
  {
   "cell_type": "code",
   "execution_count": 20,
   "id": "a14a90ac",
   "metadata": {
    "execution": {
     "iopub.execute_input": "2025-05-11T12:03:44.993645Z",
     "iopub.status.busy": "2025-05-11T12:03:44.993430Z",
     "iopub.status.idle": "2025-05-11T12:03:45.013642Z",
     "shell.execute_reply": "2025-05-11T12:03:45.012921Z"
    },
    "papermill": {
     "duration": 0.027671,
     "end_time": "2025-05-11T12:03:45.014967",
     "exception": false,
     "start_time": "2025-05-11T12:03:44.987296",
     "status": "completed"
    },
    "tags": []
   },
   "outputs": [
    {
     "data": {
      "text/html": [
       "<div>\n",
       "<style scoped>\n",
       "    .dataframe tbody tr th:only-of-type {\n",
       "        vertical-align: middle;\n",
       "    }\n",
       "\n",
       "    .dataframe tbody tr th {\n",
       "        vertical-align: top;\n",
       "    }\n",
       "\n",
       "    .dataframe thead th {\n",
       "        text-align: right;\n",
       "    }\n",
       "</style>\n",
       "<table border=\"1\" class=\"dataframe\">\n",
       "  <thead>\n",
       "    <tr style=\"text-align: right;\">\n",
       "      <th></th>\n",
       "      <th>file</th>\n",
       "      <th>scottish_deerhound</th>\n",
       "      <th>maltese_dog</th>\n",
       "      <th>afghan_hound</th>\n",
       "      <th>entlebucher</th>\n",
       "      <th>bernese_mountain_dog</th>\n",
       "      <th>shih-tzu</th>\n",
       "      <th>pomeranian</th>\n",
       "      <th>great_pyrenees</th>\n",
       "      <th>basenji</th>\n",
       "      <th>...</th>\n",
       "      <th>otterhound</th>\n",
       "      <th>giant_schnauzer</th>\n",
       "      <th>walker_hound</th>\n",
       "      <th>tibetan_mastiff</th>\n",
       "      <th>german_shepherd</th>\n",
       "      <th>golden_retriever</th>\n",
       "      <th>komondor</th>\n",
       "      <th>brabancon_griffon</th>\n",
       "      <th>eskimo_dog</th>\n",
       "      <th>briard</th>\n",
       "    </tr>\n",
       "  </thead>\n",
       "  <tbody>\n",
       "    <tr>\n",
       "      <th>0</th>\n",
       "      <td>09e51e17e2b756ff2ace8a87bd1443fa.jpg</td>\n",
       "      <td>0.000007</td>\n",
       "      <td>0.000087</td>\n",
       "      <td>0.000216</td>\n",
       "      <td>0.000013</td>\n",
       "      <td>0.000007</td>\n",
       "      <td>0.000046</td>\n",
       "      <td>0.000063</td>\n",
       "      <td>0.000032</td>\n",
       "      <td>0.000228</td>\n",
       "      <td>...</td>\n",
       "      <td>0.000037</td>\n",
       "      <td>0.000166</td>\n",
       "      <td>0.000225</td>\n",
       "      <td>5.209325e-05</td>\n",
       "      <td>0.000192</td>\n",
       "      <td>0.000022</td>\n",
       "      <td>0.000104</td>\n",
       "      <td>0.000605</td>\n",
       "      <td>0.000032</td>\n",
       "      <td>0.000019</td>\n",
       "    </tr>\n",
       "    <tr>\n",
       "      <th>1</th>\n",
       "      <td>f7a32505c12649183c5991ecfa7d68b3.jpg</td>\n",
       "      <td>0.000009</td>\n",
       "      <td>0.000087</td>\n",
       "      <td>0.000012</td>\n",
       "      <td>0.000037</td>\n",
       "      <td>0.000009</td>\n",
       "      <td>0.000014</td>\n",
       "      <td>0.000017</td>\n",
       "      <td>0.000057</td>\n",
       "      <td>0.000165</td>\n",
       "      <td>...</td>\n",
       "      <td>0.000010</td>\n",
       "      <td>0.000007</td>\n",
       "      <td>0.000096</td>\n",
       "      <td>6.951765e-06</td>\n",
       "      <td>0.000008</td>\n",
       "      <td>0.000428</td>\n",
       "      <td>0.000002</td>\n",
       "      <td>0.000104</td>\n",
       "      <td>0.000026</td>\n",
       "      <td>0.000016</td>\n",
       "    </tr>\n",
       "    <tr>\n",
       "      <th>2</th>\n",
       "      <td>bc6d50ffb4644feb34530aa58943e85b.jpg</td>\n",
       "      <td>0.001802</td>\n",
       "      <td>0.000052</td>\n",
       "      <td>0.012416</td>\n",
       "      <td>0.000106</td>\n",
       "      <td>0.000082</td>\n",
       "      <td>0.000360</td>\n",
       "      <td>0.000389</td>\n",
       "      <td>0.000598</td>\n",
       "      <td>0.000060</td>\n",
       "      <td>...</td>\n",
       "      <td>0.000089</td>\n",
       "      <td>0.000127</td>\n",
       "      <td>0.000254</td>\n",
       "      <td>9.847712e-04</td>\n",
       "      <td>0.013357</td>\n",
       "      <td>0.052928</td>\n",
       "      <td>0.000654</td>\n",
       "      <td>0.000109</td>\n",
       "      <td>0.000430</td>\n",
       "      <td>0.000605</td>\n",
       "    </tr>\n",
       "    <tr>\n",
       "      <th>3</th>\n",
       "      <td>7cbc041e79135a572aad87904b5c9c57.jpg</td>\n",
       "      <td>0.000230</td>\n",
       "      <td>0.000003</td>\n",
       "      <td>0.000003</td>\n",
       "      <td>0.000010</td>\n",
       "      <td>0.000014</td>\n",
       "      <td>0.000003</td>\n",
       "      <td>0.000008</td>\n",
       "      <td>0.000014</td>\n",
       "      <td>0.000090</td>\n",
       "      <td>...</td>\n",
       "      <td>0.000004</td>\n",
       "      <td>0.000011</td>\n",
       "      <td>0.000016</td>\n",
       "      <td>8.130550e-07</td>\n",
       "      <td>0.000003</td>\n",
       "      <td>0.000001</td>\n",
       "      <td>0.000008</td>\n",
       "      <td>0.000005</td>\n",
       "      <td>0.000003</td>\n",
       "      <td>0.000001</td>\n",
       "    </tr>\n",
       "    <tr>\n",
       "      <th>4</th>\n",
       "      <td>f3b603f10d6a344f0395fb46b242ff8e.jpg</td>\n",
       "      <td>0.000011</td>\n",
       "      <td>0.000012</td>\n",
       "      <td>0.000010</td>\n",
       "      <td>0.000021</td>\n",
       "      <td>0.000054</td>\n",
       "      <td>0.000132</td>\n",
       "      <td>0.000011</td>\n",
       "      <td>0.000037</td>\n",
       "      <td>0.000219</td>\n",
       "      <td>...</td>\n",
       "      <td>0.000028</td>\n",
       "      <td>0.000021</td>\n",
       "      <td>0.000281</td>\n",
       "      <td>4.888405e-06</td>\n",
       "      <td>0.000004</td>\n",
       "      <td>0.000203</td>\n",
       "      <td>0.000014</td>\n",
       "      <td>0.000059</td>\n",
       "      <td>0.000092</td>\n",
       "      <td>0.000015</td>\n",
       "    </tr>\n",
       "  </tbody>\n",
       "</table>\n",
       "<p>5 rows × 121 columns</p>\n",
       "</div>"
      ],
      "text/plain": [
       "                                   file  scottish_deerhound  maltese_dog  \\\n",
       "0  09e51e17e2b756ff2ace8a87bd1443fa.jpg            0.000007     0.000087   \n",
       "1  f7a32505c12649183c5991ecfa7d68b3.jpg            0.000009     0.000087   \n",
       "2  bc6d50ffb4644feb34530aa58943e85b.jpg            0.001802     0.000052   \n",
       "3  7cbc041e79135a572aad87904b5c9c57.jpg            0.000230     0.000003   \n",
       "4  f3b603f10d6a344f0395fb46b242ff8e.jpg            0.000011     0.000012   \n",
       "\n",
       "   afghan_hound  entlebucher  bernese_mountain_dog  shih-tzu  pomeranian  \\\n",
       "0      0.000216     0.000013              0.000007  0.000046    0.000063   \n",
       "1      0.000012     0.000037              0.000009  0.000014    0.000017   \n",
       "2      0.012416     0.000106              0.000082  0.000360    0.000389   \n",
       "3      0.000003     0.000010              0.000014  0.000003    0.000008   \n",
       "4      0.000010     0.000021              0.000054  0.000132    0.000011   \n",
       "\n",
       "   great_pyrenees   basenji  ...  otterhound  giant_schnauzer  walker_hound  \\\n",
       "0        0.000032  0.000228  ...    0.000037         0.000166      0.000225   \n",
       "1        0.000057  0.000165  ...    0.000010         0.000007      0.000096   \n",
       "2        0.000598  0.000060  ...    0.000089         0.000127      0.000254   \n",
       "3        0.000014  0.000090  ...    0.000004         0.000011      0.000016   \n",
       "4        0.000037  0.000219  ...    0.000028         0.000021      0.000281   \n",
       "\n",
       "   tibetan_mastiff  german_shepherd  golden_retriever  komondor  \\\n",
       "0     5.209325e-05         0.000192          0.000022  0.000104   \n",
       "1     6.951765e-06         0.000008          0.000428  0.000002   \n",
       "2     9.847712e-04         0.013357          0.052928  0.000654   \n",
       "3     8.130550e-07         0.000003          0.000001  0.000008   \n",
       "4     4.888405e-06         0.000004          0.000203  0.000014   \n",
       "\n",
       "   brabancon_griffon  eskimo_dog    briard  \n",
       "0           0.000605    0.000032  0.000019  \n",
       "1           0.000104    0.000026  0.000016  \n",
       "2           0.000109    0.000430  0.000605  \n",
       "3           0.000005    0.000003  0.000001  \n",
       "4           0.000059    0.000092  0.000015  \n",
       "\n",
       "[5 rows x 121 columns]"
      ]
     },
     "execution_count": 20,
     "metadata": {},
     "output_type": "execute_result"
    }
   ],
   "source": [
    "output.head()"
   ]
  },
  {
   "cell_type": "code",
   "execution_count": 21,
   "id": "9e9f226e",
   "metadata": {
    "execution": {
     "iopub.execute_input": "2025-05-11T12:03:45.028342Z",
     "iopub.status.busy": "2025-05-11T12:03:45.028107Z",
     "iopub.status.idle": "2025-05-11T12:03:46.499406Z",
     "shell.execute_reply": "2025-05-11T12:03:46.498824Z"
    },
    "papermill": {
     "duration": 1.479614,
     "end_time": "2025-05-11T12:03:46.500906",
     "exception": false,
     "start_time": "2025-05-11T12:03:45.021292",
     "status": "completed"
    },
    "tags": []
   },
   "outputs": [],
   "source": [
    "output.to_csv('test_submission.csv',index=False)"
   ]
  },
  {
   "cell_type": "code",
   "execution_count": null,
   "id": "5cb54ce5",
   "metadata": {
    "papermill": {
     "duration": 0.005504,
     "end_time": "2025-05-11T12:03:46.512534",
     "exception": false,
     "start_time": "2025-05-11T12:03:46.507030",
     "status": "completed"
    },
    "tags": []
   },
   "outputs": [],
   "source": []
  }
 ],
 "metadata": {
  "accelerator": "GPU",
  "colab": {
   "authorship_tag": "ABX9TyOK0gWCyzbiPRIV/Ef+pAFQ",
   "gpuType": "T4",
   "provenance": []
  },
  "kaggle": {
   "accelerator": "gpu",
   "dataSources": [
    {
     "databundleVersionId": 861871,
     "sourceId": 7327,
     "sourceType": "competition"
    }
   ],
   "dockerImageVersionId": 31011,
   "isGpuEnabled": true,
   "isInternetEnabled": true,
   "language": "python",
   "sourceType": "notebook"
  },
  "kernelspec": {
   "display_name": "Python 3",
   "language": "python",
   "name": "python3"
  },
  "language_info": {
   "codemirror_mode": {
    "name": "ipython",
    "version": 3
   },
   "file_extension": ".py",
   "mimetype": "text/x-python",
   "name": "python",
   "nbconvert_exporter": "python",
   "pygments_lexer": "ipython3",
   "version": "3.11.11"
  },
  "papermill": {
   "default_parameters": {},
   "duration": 1074.672479,
   "end_time": "2025-05-11T12:03:49.814773",
   "environment_variables": {},
   "exception": null,
   "input_path": "__notebook__.ipynb",
   "output_path": "__notebook__.ipynb",
   "parameters": {},
   "start_time": "2025-05-11T11:45:55.142294",
   "version": "2.6.0"
  }
 },
 "nbformat": 4,
 "nbformat_minor": 5
}
